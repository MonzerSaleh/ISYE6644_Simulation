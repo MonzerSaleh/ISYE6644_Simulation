{
 "cells": [
  {
   "cell_type": "code",
   "execution_count": null,
   "id": "0fbc6804",
   "metadata": {},
   "outputs": [],
   "source": []
  },
  {
   "cell_type": "markdown",
   "id": "89cef6a3",
   "metadata": {},
   "source": [
    "From (z_6644-projects-2022-spring.pdf)\n",
    "\n",
    "## 18\n",
    "\n",
    "(1–2 members) Make me a nice library of random variate generation routines. You can use your favorite high-level language like C++, Java, Python, Matlab, or even Excel. Include in your library routines for generating random variates from all of the usual discrete and continuous distributions, e.g., Bern(p), Geom(p), Exp(λ), Normal(µ, σ2), Gamma(α, β), Weibull(α, β), etc., etc. \n",
    "- Just one routine per distribution is fine. \n",
    "- Include in your write-up \n",
    "    - an easy user’s guide, \n",
    "    - complete source code, \n",
    "    - and some appropriate examples.\n"
   ]
  }
 ],
 "metadata": {
  "hide_input": false,
  "kernelspec": {
   "display_name": "Python [conda env:root] *",
   "language": "python",
   "name": "conda-root-py"
  },
  "language_info": {
   "codemirror_mode": {
    "name": "ipython",
    "version": 3
   },
   "file_extension": ".py",
   "mimetype": "text/x-python",
   "name": "python",
   "nbconvert_exporter": "python",
   "pygments_lexer": "ipython3",
   "version": "3.7.12"
  },
  "toc": {
   "base_numbering": 1,
   "nav_menu": {},
   "number_sections": false,
   "sideBar": true,
   "skip_h1_title": true,
   "title_cell": "Table of Contents",
   "title_sidebar": "Contents",
   "toc_cell": false,
   "toc_position": {},
   "toc_section_display": true,
   "toc_window_display": false
  }
 },
 "nbformat": 4,
 "nbformat_minor": 5
}
