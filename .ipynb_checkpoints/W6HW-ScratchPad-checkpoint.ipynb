{
 "cells": [
  {
   "cell_type": "code",
   "execution_count": 1,
   "id": "33fe1f62",
   "metadata": {},
   "outputs": [],
   "source": [
    "import numpy as np\n"
   ]
  },
  {
   "cell_type": "code",
   "execution_count": 7,
   "id": "7b94dba6",
   "metadata": {},
   "outputs": [
    {
     "data": {
      "text/plain": [
       "0.0556"
      ]
     },
     "execution_count": 7,
     "metadata": {},
     "output_type": "execute_result"
    }
   ],
   "source": [
    "6632**2  # X0\n",
    "9834**2  # X1 96707556\n",
    "7075**2  # X3 50055625\n",
    "(556)/10000"
   ]
  },
  {
   "cell_type": "code",
   "execution_count": 18,
   "id": "6e68b504",
   "metadata": {},
   "outputs": [
    {
     "name": "stdout",
     "output_type": "stream",
     "text": [
      "[7, 6, 1, 8, 11, 10, 5, 12, 15, 14, 9, 0, 3, 2, 13, 4, 7, 6, 1, 8, 11, 10, 5, 12, 15, 14, 9, 0, 3, 2, 13, 4, 7, 6, 1, 8, 11, 10, 5, 12, 15, 14, 9, 0, 3, 2, 13, 4, 7, 6, 1, 8, 11, 10, 5, 12, 15, 14, 9, 0, 3, 2, 13, 4, 7, 6, 1, 8, 11, 10, 5, 12, 15, 14, 9, 0, 3, 2, 13, 4, 7, 6, 1, 8, 11, 10, 5, 12, 15, 14, 9, 0, 3, 2, 13, 4, 7, 6, 1, 8, 11, 10, 5, 12, 15, 14, 9, 0, 3, 2, 13, 4, 7, 6, 1, 8, 11, 10, 5, 12, 15, 14, 9, 0, 3, 2, 13, 4, 7, 6, 1, 8, 11, 10, 5, 12, 15, 14, 9, 0, 3, 2, 13, 4, 7, 6, 1, 8, 11, 10, 5, 12, 15, 14, 9, 0, 3, 2, 13, 4, 7, 6, 1, 8, 11, 10, 5, 12, 15, 14, 9, 0, 3, 2, 13, 4, 7, 6, 1, 8, 11, 10, 5, 12, 15, 14, 9, 0, 3, 2, 13, 4, 7, 6, 1, 8, 11, 10, 5, 12, 15, 14, 9, 0, 3, 2, 13, 4, 7, 6, 1, 8, 11, 10, 5, 12, 15, 14, 9, 0, 3, 2, 13, 4, 7, 6, 1, 8, 11, 10, 5, 12, 15, 14, 9, 0, 3, 2, 13, 4, 7, 6, 1, 8, 11, 10, 5, 12, 15, 14, 9, 0, 3, 2, 13, 4, 7, 6, 1, 8, 11, 10, 5, 12, 15, 14, 9, 0, 3, 2, 13, 4, 7, 6, 1, 8, 11, 10, 5, 12, 15, 14, 9, 0, 3, 2, 13, 4, 7, 6, 1, 8, 11, 10, 5, 12, 15, 14, 9, 0, 3, 2, 13, 4, 7, 6, 1, 8, 11, 10, 5, 12, 15, 14, 9, 0, 3, 2, 13, 4, 7, 6, 1, 8, 11, 10, 5, 12, 15, 14, 9, 0, 3, 2, 13, 4, 7, 6, 1, 8, 11, 10, 5, 12, 15, 14, 9, 0, 3, 2, 13, 4, 7, 6, 1, 8, 11, 10, 5, 12, 15, 14, 9, 0, 3, 2, 13, 4, 7, 6, 1, 8, 11, 10, 5, 12, 15, 14, 9, 0, 3, 2, 13, 4, 7, 6, 1, 8, 11, 10, 5, 12, 15, 14, 9, 0, 3, 2, 13, 4, 7, 6, 1, 8, 11, 10, 5, 12, 15, 14, 9, 0, 3, 2, 13, 4, 7, 6, 1, 8, 11, 10, 5, 12, 15, 14, 9, 0, 3, 2, 13, 4, 7, 6, 1, 8, 11, 10, 5, 12, 15, 14, 9, 0, 3, 2, 13, 4, 7, 6, 1, 8, 11, 10, 5, 12, 15, 14, 9, 0, 3, 2, 13, 4, 7, 6, 1, 8, 11, 10, 5, 12, 15, 14, 9, 0, 3, 2, 13, 4, 7, 6, 1, 8, 11, 10, 5, 12, 15, 14, 9, 0, 3, 2, 13, 4, 7, 6, 1, 8, 11, 10]\n"
     ]
    }
   ],
   "source": [
    "def fun(i):\n",
    "    x = [7]\n",
    "    for y in range(i):\n",
    "        x.append((5*x[-1]+3) % 16 )\n",
    "    \n",
    "    return x\n",
    "\n",
    "t = fun(501)\n",
    "print(t)"
   ]
  },
  {
   "cell_type": "code",
   "execution_count": 25,
   "id": "5382cacd",
   "metadata": {},
   "outputs": [
    {
     "name": "stdout",
     "output_type": "stream",
     "text": [
      "Oi [0.4, 0.1, 0.196, 0.576]\n",
      "summed 1.2719999999999998\n"
     ]
    }
   ],
   "source": [
    "n=1000\n",
    "k=4 \n",
    "Ei = 1000/4   # 250\n",
    "Oi = [((240-Ei)**2)/Ei, ((255-Ei)**2)/Ei, ((243-Ei)**2)/Ei, ((262-Ei)**2)/Ei, ]\n",
    "print('Oi',Oi)\n",
    "print('summed',sum(Oi))"
   ]
  },
  {
   "cell_type": "code",
   "execution_count": 26,
   "id": "a2ab9769",
   "metadata": {},
   "outputs": [
    {
     "ename": "SyntaxError",
     "evalue": "invalid syntax (1713060479.py, line 6)",
     "output_type": "error",
     "traceback": [
      "\u001b[1;36m  File \u001b[1;32m\"C:\\Users\\monze\\AppData\\Local\\Temp\\ipykernel_5340\\1713060479.py\"\u001b[1;36m, line \u001b[1;32m6\u001b[0m\n\u001b[1;33m    --++++---+-+-+++----+++----++\u001b[0m\n\u001b[1;37m                                      ^\u001b[0m\n\u001b[1;31mSyntaxError\u001b[0m\u001b[1;31m:\u001b[0m invalid syntax\n"
     ]
    }
   ],
   "source": [
    "0.79,0.68,0.46,0.69,0.90,0.93,0.99,0.86,0.33,0.22,   \n",
    "0.60,0.18,0.59,0.38,0.69,0.76,0.91,0.62,0.22,0.19,\n",
    "0.11,0.45,0.72,0.88,0.65,0.55,0.31,0.27,0.46,0.89\n",
    "# 30 numbers\n",
    "\n",
    "--++++---+-+-+++----+++----++     \n",
    "# 29\n",
    "\n",
    "--1++++2---3+4-5+6-7+++8----9+++10----11++12\n",
    "# 12 runs\n",
    "t/f\n",
    "A = 12 = number of runs\n",
    "# mu   2*12-1 / 3\n",
    "# var  16*12-29 / 90 \n",
    "A ~ N(23.67, 191.68 )\n",
    "z0 = (12 - 23.67) / np.sqrt(191.68)\n",
    "# z0 = -0.8429124251233809\n"
   ]
  },
  {
   "cell_type": "code",
   "execution_count": 34,
   "id": "360cdce1",
   "metadata": {},
   "outputs": [
    {
     "data": {
      "text/plain": [
       "-0.8429124251233809"
      ]
     },
     "execution_count": 34,
     "metadata": {},
     "output_type": "execute_result"
    }
   ],
   "source": []
  }
 ],
 "metadata": {
  "hide_input": false,
  "kernelspec": {
   "display_name": "Python [conda env:root] *",
   "language": "python",
   "name": "conda-root-py"
  },
  "language_info": {
   "codemirror_mode": {
    "name": "ipython",
    "version": 3
   },
   "file_extension": ".py",
   "mimetype": "text/x-python",
   "name": "python",
   "nbconvert_exporter": "python",
   "pygments_lexer": "ipython3",
   "version": "3.7.12"
  },
  "toc": {
   "base_numbering": 1,
   "nav_menu": {},
   "number_sections": false,
   "sideBar": true,
   "skip_h1_title": true,
   "title_cell": "Table of Contents",
   "title_sidebar": "Contents",
   "toc_cell": false,
   "toc_position": {},
   "toc_section_display": true,
   "toc_window_display": false
  }
 },
 "nbformat": 4,
 "nbformat_minor": 5
}
