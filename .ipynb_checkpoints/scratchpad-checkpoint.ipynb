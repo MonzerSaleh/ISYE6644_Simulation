{
 "cells": [
  {
   "cell_type": "code",
   "execution_count": null,
   "id": "f4826f43",
   "metadata": {},
   "outputs": [],
   "source": [
    "a <-  e^(-\\lambda)\n",
    "p <-  1\n",
    "X <- -1\n",
    "\n",
    "while(p < a)\n",
    "    U <- generate U(0,1)\n",
    "    p <- p*U\n",
    "    X <- X + 1\n",
    "\n",
    "Return X   "
   ]
  },
  {
   "cell_type": "code",
   "execution_count": null,
   "id": "ba0b080f",
   "metadata": {},
   "outputs": [],
   "source": []
  },
  {
   "cell_type": "code",
   "execution_count": null,
   "id": "e1d88eec",
   "metadata": {},
   "outputs": [],
   "source": []
  },
  {
   "cell_type": "code",
   "execution_count": null,
   "id": "cbeaf2b4",
   "metadata": {},
   "outputs": [],
   "source": []
  },
  {
   "cell_type": "code",
   "execution_count": null,
   "id": "39b59200",
   "metadata": {},
   "outputs": [],
   "source": []
  },
  {
   "cell_type": "code",
   "execution_count": 18,
   "id": "44676133",
   "metadata": {},
   "outputs": [
    {
     "data": {
      "text/plain": [
       "0.19536681481316454"
      ]
     },
     "execution_count": 18,
     "metadata": {},
     "output_type": "execute_result"
    }
   ],
   "source": [
    "from scipy.stats import poisson\n",
    "poisson.pmf(k=4,mu=7/3)\n",
    "poisson.pmf(k=3,mu=4)"
   ]
  },
  {
   "cell_type": "code",
   "execution_count": null,
   "id": "d7f4fe4b",
   "metadata": {},
   "outputs": [],
   "source": [
    "# sig_12/sqrt(sig_11)\n"
   ]
  },
  {
   "cell_type": "code",
   "execution_count": null,
   "id": "c12d628b",
   "metadata": {},
   "outputs": [],
   "source": [
    "P(Y<y)\n",
    "P(max(Xi) < y)\n",
    "P()"
   ]
  },
  {
   "cell_type": "code",
   "execution_count": 12,
   "id": "1affc0a1",
   "metadata": {},
   "outputs": [
    {
     "data": {
      "text/plain": [
       "0.6631399714746831"
      ]
     },
     "execution_count": 12,
     "metadata": {},
     "output_type": "execute_result"
    }
   ],
   "source": [
    "u1 = 0.1\n",
    "u2 = 0.8\n",
    "np.sqrt(-2*np.log(u1))*np.cos(2*np.pi*u2)"
   ]
  },
  {
   "cell_type": "code",
   "execution_count": 8,
   "id": "2387b660",
   "metadata": {},
   "outputs": [
    {
     "name": "stdout",
     "output_type": "stream",
     "text": [
      "0.024723526470339388\n",
      "0.0215865\n"
     ]
    }
   ],
   "source": [
    "import numpy as np\n",
    "a = np.exp(-3.7)\n",
    "print(a)\n",
    "\n",
    "print(0.65*0.45*0.82*0.09)"
   ]
  },
  {
   "cell_type": "code",
   "execution_count": null,
   "id": "67a8cb10",
   "metadata": {},
   "outputs": [],
   "source": []
  },
  {
   "cell_type": "code",
   "execution_count": 5,
   "id": "dcb36f3f",
   "metadata": {},
   "outputs": [
    {
     "data": {
      "image/png": "[encoded data removed]",
      "text/plain": [
       "<Figure size 432x288 with 1 Axes>"
      ]
     },
     "metadata": {
      "needs_background": "light"
     },
     "output_type": "display_data"
    }
   ],
   "source": [
    "import numpy as np\n",
    "import matplotlib.mlab as mlab\n",
    "import matplotlib.pyplot as plt\n",
    "\n",
    "y = np.random.uniform(0,1,1000)\n",
    "x = -1 * np.log(y)\n",
    "num_bins = 500\n",
    "n, bins, patches = plt.hist(x, num_bins, facecolor='blue', alpha=0.5)\n",
    "plt.show()"
   ]
  },
  {
   "cell_type": "code",
   "execution_count": 1,
   "id": "3be6782e",
   "metadata": {},
   "outputs": [
    {
     "data": {
      "image/png": "[encoded data removed]",
      "text/plain": [
       "<Figure size 432x288 with 1 Axes>"
      ]
     },
     "metadata": {
      "needs_background": "light"
     },
     "output_type": "display_data"
    }
   ],
   "source": [
    "import numpy as np\n",
    "import matplotlib.mlab as mlab\n",
    "import matplotlib.pyplot as plt\n",
    "\n",
    "y = np.random.uniform(0,1,5000)\n",
    "z = np.random.uniform(0,1,5000)\n",
    "x = y+z\n",
    "\n",
    "num_bins = 50\n",
    "n, bins, patches = plt.hist(x, num_bins, facecolor='blue', alpha=0.5)\n",
    "plt.show()"
   ]
  },
  {
   "cell_type": "code",
   "execution_count": 16,
   "id": "cb871ab7",
   "metadata": {},
   "outputs": [
    {
     "data": {
      "image/png": "[encoded data removed]",
      "text/plain": [
       "<Figure size 432x288 with 1 Axes>"
      ]
     },
     "metadata": {
      "needs_background": "light"
     },
     "output_type": "display_data"
    }
   ],
   "source": [
    "import numpy as np\n",
    "import matplotlib.mlab as mlab\n",
    "import matplotlib.pyplot as plt\n",
    "\n",
    "n = 5\n",
    "samples = [None] * 5\n",
    "\n",
    "for i in range(n):\n",
    "    samples[i] = np.random.uniform(0,1,50000)\n",
    "\n",
    "#print('before')    \n",
    "#print(samples)\n",
    "\n",
    "# now sum the cols \n",
    "x = sum(samples)\n",
    "#print('after')\n",
    "#print(x)\n",
    "\n",
    "num_bins = 50\n",
    "n, bins, patches = plt.hist(x, num_bins, facecolor='blue', alpha=0.5)\n",
    "plt.show()"
   ]
  },
  {
   "cell_type": "code",
   "execution_count": 12,
   "id": "51fe8de7",
   "metadata": {},
   "outputs": [
    {
     "data": {
      "text/plain": [
       "2.3768256900000004"
      ]
     },
     "execution_count": 12,
     "metadata": {},
     "output_type": "execute_result"
    }
   ],
   "source": [
    "0.42759629+0.82986318 + 0.39168066 + 0.1939527 + 0.53373286"
   ]
  }
 ],
 "metadata": {
  "hide_input": false,
  "kernelspec": {
   "display_name": "Python 3 (ipykernel)",
   "language": "python",
   "name": "python3"
  },
  "language_info": {
   "codemirror_mode": {
    "name": "ipython",
    "version": 3
   },
   "file_extension": ".py",
   "mimetype": "text/x-python",
   "name": "python",
   "nbconvert_exporter": "python",
   "pygments_lexer": "ipython3",
   "version": "3.7.12"
  },
  "toc": {
   "base_numbering": 1,
   "nav_menu": {},
   "number_sections": false,
   "sideBar": true,
   "skip_h1_title": true,
   "title_cell": "Table of Contents",
   "title_sidebar": "Contents",
   "toc_cell": false,
   "toc_position": {},
   "toc_section_display": true,
   "toc_window_display": false
  }
 },
 "nbformat": 4,
 "nbformat_minor": 5
}
